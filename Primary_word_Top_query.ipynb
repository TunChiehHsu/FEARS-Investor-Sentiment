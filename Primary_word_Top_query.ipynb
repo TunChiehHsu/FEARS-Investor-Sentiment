{
 "cells": [
  {
   "cell_type": "code",
   "execution_count": 2,
   "metadata": {
    "collapsed": true
   },
   "outputs": [],
   "source": [
    "## SETUP ##\n",
    "import time\n",
    "from random import randint\n",
    "import pandas as pd\n",
    "import numpy as np\n",
    "import timeit\n",
    "from datetime import datetime, timedelta\n",
    "from pytrends.request import TrendReq\n",
    "from itertools import chain\n",
    "import seaborn as sns\n",
    "import string\n",
    "import pickle\n",
    "import matplotlib.pyplot as plt\n",
    "\n",
    "%matplotlib inline"
   ]
  },
  {
   "cell_type": "markdown",
   "metadata": {},
   "source": [
    "## Create Dictionary"
   ]
  },
  {
   "cell_type": "code",
   "execution_count": 3,
   "metadata": {
    "collapsed": true
   },
   "outputs": [],
   "source": [
    "data = pd.read_csv('/Users/mueric35/Desktop/inquireraugmented.csv', low_memory = False)"
   ]
  },
  {
   "cell_type": "code",
   "execution_count": 4,
   "metadata": {
    "collapsed": true
   },
   "outputs": [],
   "source": [
    "data = data.iloc[1:]\n",
    "data = data[['Entry','Econ@','ECON','Positiv','Negativ','Pstv','Ngtv']]"
   ]
  },
  {
   "cell_type": "code",
   "execution_count": 5,
   "metadata": {
    "collapsed": true
   },
   "outputs": [],
   "source": [
    "data = data[ (data['Econ@'] == 'Econ@') | (data['ECON'] == 'ECON')]\n",
    "index = (~data['Positiv'].isnull()) | ~(data['Negativ'].isnull()) | ~(data['Pstv'].isnull()) | ~(data['Ngtv'].isnull())\n",
    "data = data[index]"
   ]
  },
  {
   "cell_type": "code",
   "execution_count": 6,
   "metadata": {
    "collapsed": true
   },
   "outputs": [],
   "source": [
    "temp = data[['Positiv','Negativ','Pstv','Ngtv']]\n",
    "data[['Positiv','Negativ','Pstv','Ngtv']] = temp.notnull().astype(int)\n",
    "data['Char'] = 0\n",
    "data.loc[(data['Positiv'] == 1) | (data['Pstv'] == 1),'Char'] = 1\n",
    "data.loc[~((data['Positiv'] == 1) | (data['Pstv'] == 1)),'Char'] = 0\n",
    "data.loc[:,'Entry'] = data['Entry'].str.lower().str.split('#').str[0]"
   ]
  },
  {
   "cell_type": "code",
   "execution_count": 7,
   "metadata": {
    "scrolled": true
   },
   "outputs": [
    {
     "data": {
      "text/html": [
       "<div>\n",
       "<style>\n",
       "    .dataframe thead tr:only-child th {\n",
       "        text-align: right;\n",
       "    }\n",
       "\n",
       "    .dataframe thead th {\n",
       "        text-align: left;\n",
       "    }\n",
       "\n",
       "    .dataframe tbody tr th {\n",
       "        vertical-align: top;\n",
       "    }\n",
       "</style>\n",
       "<table border=\"1\" class=\"dataframe\">\n",
       "  <thead>\n",
       "    <tr style=\"text-align: right;\">\n",
       "      <th></th>\n",
       "      <th>Entry</th>\n",
       "      <th>Econ@</th>\n",
       "      <th>ECON</th>\n",
       "      <th>Positiv</th>\n",
       "      <th>Negativ</th>\n",
       "      <th>Pstv</th>\n",
       "      <th>Ngtv</th>\n",
       "      <th>Char</th>\n",
       "    </tr>\n",
       "  </thead>\n",
       "  <tbody>\n",
       "    <tr>\n",
       "      <th>51</th>\n",
       "      <td>abundance</td>\n",
       "      <td>NaN</td>\n",
       "      <td>ECON</td>\n",
       "      <td>1</td>\n",
       "      <td>0</td>\n",
       "      <td>1</td>\n",
       "      <td>0</td>\n",
       "      <td>1</td>\n",
       "    </tr>\n",
       "    <tr>\n",
       "      <th>97</th>\n",
       "      <td>accrue</td>\n",
       "      <td>Econ@</td>\n",
       "      <td>ECON</td>\n",
       "      <td>1</td>\n",
       "      <td>0</td>\n",
       "      <td>0</td>\n",
       "      <td>0</td>\n",
       "      <td>1</td>\n",
       "    </tr>\n",
       "    <tr>\n",
       "      <th>217</th>\n",
       "      <td>advantage</td>\n",
       "      <td>NaN</td>\n",
       "      <td>ECON</td>\n",
       "      <td>1</td>\n",
       "      <td>0</td>\n",
       "      <td>1</td>\n",
       "      <td>0</td>\n",
       "      <td>1</td>\n",
       "    </tr>\n",
       "    <tr>\n",
       "      <th>255</th>\n",
       "      <td>affluence</td>\n",
       "      <td>Econ@</td>\n",
       "      <td>NaN</td>\n",
       "      <td>1</td>\n",
       "      <td>0</td>\n",
       "      <td>0</td>\n",
       "      <td>0</td>\n",
       "      <td>1</td>\n",
       "    </tr>\n",
       "    <tr>\n",
       "      <th>256</th>\n",
       "      <td>affluent</td>\n",
       "      <td>Econ@</td>\n",
       "      <td>NaN</td>\n",
       "      <td>1</td>\n",
       "      <td>0</td>\n",
       "      <td>0</td>\n",
       "      <td>0</td>\n",
       "      <td>1</td>\n",
       "    </tr>\n",
       "  </tbody>\n",
       "</table>\n",
       "</div>"
      ],
      "text/plain": [
       "         Entry  Econ@  ECON  Positiv  Negativ  Pstv  Ngtv  Char\n",
       "51   abundance    NaN  ECON        1        0     1     0     1\n",
       "97      accrue  Econ@  ECON        1        0     0     0     1\n",
       "217  advantage    NaN  ECON        1        0     1     0     1\n",
       "255  affluence  Econ@   NaN        1        0     0     0     1\n",
       "256   affluent  Econ@   NaN        1        0     0     0     1"
      ]
     },
     "execution_count": 7,
     "metadata": {},
     "output_type": "execute_result"
    }
   ],
   "source": [
    "data.head()"
   ]
  },
  {
   "cell_type": "markdown",
   "metadata": {},
   "source": [
    "#### Primitive word list"
   ]
  },
  {
   "cell_type": "code",
   "execution_count": 8,
   "metadata": {
    "collapsed": true
   },
   "outputs": [],
   "source": [
    "final_dict = data[['Entry','Char']]\n",
    "final_dict.reset_index(drop=True,inplace=True)\n",
    "final_dict = final_dict.drop_duplicates()"
   ]
  },
  {
   "cell_type": "code",
   "execution_count": 9,
   "metadata": {},
   "outputs": [
    {
     "data": {
      "text/plain": [
       "(150, 2)"
      ]
     },
     "execution_count": 9,
     "metadata": {},
     "output_type": "execute_result"
    }
   ],
   "source": [
    "final_dict.shape"
   ]
  },
  {
   "cell_type": "code",
   "execution_count": 10,
   "metadata": {},
   "outputs": [
    {
     "data": {
      "text/html": [
       "<div>\n",
       "<style>\n",
       "    .dataframe thead tr:only-child th {\n",
       "        text-align: right;\n",
       "    }\n",
       "\n",
       "    .dataframe thead th {\n",
       "        text-align: left;\n",
       "    }\n",
       "\n",
       "    .dataframe tbody tr th {\n",
       "        vertical-align: top;\n",
       "    }\n",
       "</style>\n",
       "<table border=\"1\" class=\"dataframe\">\n",
       "  <thead>\n",
       "    <tr style=\"text-align: right;\">\n",
       "      <th></th>\n",
       "      <th>Entry</th>\n",
       "      <th>Char</th>\n",
       "    </tr>\n",
       "  </thead>\n",
       "  <tbody>\n",
       "    <tr>\n",
       "      <th>0</th>\n",
       "      <td>abundance</td>\n",
       "      <td>1</td>\n",
       "    </tr>\n",
       "    <tr>\n",
       "      <th>1</th>\n",
       "      <td>accrue</td>\n",
       "      <td>1</td>\n",
       "    </tr>\n",
       "    <tr>\n",
       "      <th>2</th>\n",
       "      <td>advantage</td>\n",
       "      <td>1</td>\n",
       "    </tr>\n",
       "    <tr>\n",
       "      <th>3</th>\n",
       "      <td>affluence</td>\n",
       "      <td>1</td>\n",
       "    </tr>\n",
       "    <tr>\n",
       "      <th>4</th>\n",
       "      <td>affluent</td>\n",
       "      <td>1</td>\n",
       "    </tr>\n",
       "  </tbody>\n",
       "</table>\n",
       "</div>"
      ],
      "text/plain": [
       "       Entry  Char\n",
       "0  abundance     1\n",
       "1     accrue     1\n",
       "2  advantage     1\n",
       "3  affluence     1\n",
       "4   affluent     1"
      ]
     },
     "execution_count": 10,
     "metadata": {},
     "output_type": "execute_result"
    }
   ],
   "source": [
    "final_dict.head()"
   ]
  },
  {
   "cell_type": "markdown",
   "metadata": {},
   "source": [
    "## Google Trend "
   ]
  },
  {
   "cell_type": "code",
   "execution_count": 20,
   "metadata": {
    "collapsed": true
   },
   "outputs": [],
   "source": [
    "from pytrends.request import TrendReq\n",
    "pytrends = TrendReq(hl='en-US', tz=360, geo = 'us')"
   ]
  },
  {
   "cell_type": "markdown",
   "metadata": {},
   "source": [
    "### import primitive word "
   ]
  },
  {
   "cell_type": "code",
   "execution_count": 21,
   "metadata": {
    "collapsed": true
   },
   "outputs": [],
   "source": [
    "# word list\n",
    "pri_word = final_dict['Entry'].tolist()\n"
   ]
  },
  {
   "cell_type": "code",
   "execution_count": 24,
   "metadata": {
    "collapsed": true
   },
   "outputs": [],
   "source": [
    "def primitive_word(pri_word , top = 5):\n",
    "    '''\n",
    "    pri_word : word list\n",
    "    top : top related query\n",
    "    '''\n",
    "    word_lst = []\n",
    "    i = 0 \n",
    "    for word in pri_word:\n",
    "        print('Downloading: ', i)\n",
    "        pytrends.build_payload([word], cat=16, timeframe='2010-01-01 2017-01-01', geo='US')\n",
    "\n",
    "        series_queries = pytrends.related_queries()\n",
    "        if     series_queries[word]['top'] is None:\n",
    "            pass\n",
    "        else:\n",
    "            series_queries = series_queries[word]['top']['query']\n",
    "            word_lst.append(series_queries[:top].tolist())\n",
    "\n",
    "        time.sleep(randint(5, 10))\n",
    "        i+=1\n",
    "    return(word_lst)"
   ]
  },
  {
   "cell_type": "code",
   "execution_count": 28,
   "metadata": {},
   "outputs": [],
   "source": [
    "#word_lst_5 = primitive_word(pri_word,5)\n",
    "#word_lst_5\n",
    "Word_lst_5 = list(chain.from_iterable(word_lst_5))"
   ]
  },
  {
   "cell_type": "code",
   "execution_count": 445,
   "metadata": {
    "collapsed": true
   },
   "outputs": [],
   "source": [
    "Word_lst = word_lst\n",
    "Word_lst = list(chain.from_iterable(Word_lst))"
   ]
  },
  {
   "cell_type": "code",
   "execution_count": 654,
   "metadata": {},
   "outputs": [
    {
     "data": {
      "text/plain": [
       "960"
      ]
     },
     "execution_count": 654,
     "metadata": {},
     "output_type": "execute_result"
    }
   ],
   "source": [
    "# remove duplicate\n",
    "Word_lst = list(set(Word_lst))\n",
    "len(Word_lst)"
   ]
  },
  {
   "cell_type": "markdown",
   "metadata": {},
   "source": [
    "### Save File "
   ]
  },
  {
   "cell_type": "code",
   "execution_count": 770,
   "metadata": {
    "collapsed": true
   },
   "outputs": [],
   "source": [
    "Word_list = open('/Users/mueric35/Desktop/project/word_list.txt', 'w')\n",
    "for word in Word_lst:\n",
    "    Word_list.write(\"%s\\n\" % word)\n"
   ]
  }
 ],
 "metadata": {
  "kernelspec": {
   "display_name": "Python 3",
   "language": "python",
   "name": "python3"
  },
  "language_info": {
   "codemirror_mode": {
    "name": "ipython",
    "version": 3
   },
   "file_extension": ".py",
   "mimetype": "text/x-python",
   "name": "python",
   "nbconvert_exporter": "python",
   "pygments_lexer": "ipython3",
   "version": "3.6.4"
  }
 },
 "nbformat": 4,
 "nbformat_minor": 2
}
