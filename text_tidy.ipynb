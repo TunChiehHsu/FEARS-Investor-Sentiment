{
 "cells": [
  {
   "cell_type": "code",
   "execution_count": 1,
   "metadata": {
    "collapsed": true
   },
   "outputs": [],
   "source": [
    "\n",
    "\n",
    "def text_to_wordlist(text, remove_stopwords=False, stem_words=False):\n",
    "    # Clean the text, with the option to remove stopwords and to stem words.\n",
    "    import re\n",
    "    # Convert words to lower case and split them\n",
    "    text = text.lower().split()\n",
    "\n",
    "    # Optionally, remove stop words\n",
    "    if remove_stopwords:\n",
    "        stops = set(stopwords.words(\"english\"))\n",
    "        text = [w for w in text if not w in stops]\n",
    "    \n",
    "    text = \" \".join(text)\n",
    "\n",
    "    # Clean the text\n",
    "    text = re.sub(r\"[^A-Za-z0-9,!+^.\\/'-=?]\", \" \", text) # origin is [^A-Za-z0-9^,!.\\/'+-=?]\n",
    "    text = re.sub(r\"what ' s\", \"what is \", text)\n",
    "    # my turn\n",
    "    text = re.sub(r\"he ' s\", \"he is\", text)\n",
    "    text = re.sub(r\"she ' s\", \"she is\", text)\n",
    "    text = re.sub(r\"it ' s\", \"it is\", text)\n",
    "    text = re.sub(r\"let ' s\", \"let us\", text)\n",
    "    text = re.sub(r\"can ' t\", \"can not \", text)\n",
    "    text = re.sub(r\"4get\", \"forget \", text)\n",
    "    text = re.sub(r\"coo[o]+\", \"cooo\", text)\n",
    "    text = re.sub(r\"so[o]+\", \"sooo \", text)\n",
    "    text = re.sub(r\" [0-9]+ : [0-9]+\", \" aa:bb \", text) #時間\n",
    "    text = re.sub(r\" [0-9]+\", \" \", text) #去除純數字\n",
    "    text = re.sub(r\"\\?\", \" ? \", text)\n",
    "    text = re.sub(r\"\\.\\.[\\.]+\", \" a... \", text)\n",
    "    text = re.sub(r\"uh[h]+\", \" uh \", text)\n",
    "    text = re.sub(r\"zz[z]+\", \" zzz \", text)\n",
    "    text = re.sub(r\"loo[o]+l\", \" lool \", text)\n",
    "    text = re.sub(r\" \\.\\.\", \" \", text)\n",
    "    \n",
    "    #end my turn\n",
    "    text = re.sub(r\"\\' s\", \" \", text)\n",
    "    text = re.sub(r\"\\' ve\", \" have \", text)\n",
    "    text = re.sub(r\"can ' t\", \"can not \", text)\n",
    "    text = re.sub(r\"n ' t\", \" not \", text)\n",
    "    text = re.sub(r\"i ' m\", \"i am \", text)\n",
    "    text = re.sub(r\"\\' re\", \" are \", text)\n",
    "    text = re.sub(r\"\\' d\", \" would \", text)\n",
    "    text = re.sub(r\"\\' ll\", \" will \", text)\n",
    "    text = re.sub(r\",\", \" \", text)\n",
    "    text = re.sub(r\" \\.\", \" \", text)\n",
    "    \n",
    "    text = re.sub(r\"!![!]+\", \" !!! \", text)\n",
    "    text = re.sub(r\"\\/\", \" \", text)\n",
    "    text = re.sub(r\"\\^\", \" ^ \", text)\n",
    "    text = re.sub(r\"\\+\", \" + \", text)\n",
    "    text = re.sub(r\"e - mail\", \"email\", text)\n",
    "    text = re.sub(r\"\\-\", \" - \", text)\n",
    "    text = re.sub(r\" \\=\", \" \", text)\n",
    "    text = re.sub(r\"'\", \" \", text)\n",
    "    text = re.sub(r\"(\\d+)(k)\", r\"\\g<1>000\", text)\n",
    "    text = re.sub(r\" : \", \" : \", text)\n",
    "    text = re.sub(r\" e g \", \" eg \", text)\n",
    "    text = re.sub(r\" b g \", \" bg \", text)\n",
    "    text = re.sub(r\" u s \", \" american \", text)\n",
    "    #text = re.sub(r\"\\0s\", \"0\", text)\n",
    "    #text = re.sub(r\" 9 11 \", \"911\", text)\n",
    "    text = re.sub(r\"j k\", \"jk\", text)\n",
    "    text = re.sub(r\"\\s{2,}\", \" \", text)\n",
    "    \n",
    "    # Optionally, shorten words to their stems\n",
    "    if stem_words:\n",
    "        text = text.split()\n",
    "        stemmer = SnowballStemmer('english')\n",
    "        stemmed_words = [stemmer.stem(word) for word in text]\n",
    "        text = \" \".join(stemmed_words)\n",
    "    \n",
    "    # Return a list of words\n",
    "    return text"
   ]
  },
  {
   "cell_type": "code",
   "execution_count": null,
   "metadata": {
    "collapsed": true
   },
   "outputs": [],
   "source": []
  }
 ],
 "metadata": {
  "kernelspec": {
   "display_name": "Python 3",
   "language": "python",
   "name": "python3"
  },
  "language_info": {
   "codemirror_mode": {
    "name": "ipython",
    "version": 3
   },
   "file_extension": ".py",
   "mimetype": "text/x-python",
   "name": "python",
   "nbconvert_exporter": "python",
   "pygments_lexer": "ipython3",
   "version": "3.6.4"
  }
 },
 "nbformat": 4,
 "nbformat_minor": 2
}
