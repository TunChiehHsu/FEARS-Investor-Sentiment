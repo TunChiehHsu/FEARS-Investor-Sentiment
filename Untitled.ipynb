{
 "cells": [
  {
   "cell_type": "code",
   "execution_count": 3,
   "metadata": {
    "collapsed": true
   },
   "outputs": [],
   "source": [
    "import sys\n",
    "def  findNumber(arr, k):\n",
    "\n",
    "    if k in arr:\n",
    "        print('yes', file = sys.stderr)\n",
    "    else:\n",
    "        print('no', file = sys.stderr)"
   ]
  },
  {
   "cell_type": "code",
   "execution_count": 22,
   "metadata": {},
   "outputs": [],
   "source": [
    "radius = [1,3,6,2,5]\n",
    "cost = [5,6,8,3,4]"
   ]
  },
  {
   "cell_type": "code",
   "execution_count": 28,
   "metadata": {},
   "outputs": [],
   "source": [
    "def  Circles( distance,  radius,  cost):\n",
    "    final = []\n",
    "    all_list = [radius,cost]\n",
    "    for rad in radius:\n",
    "        diff = distance - rad\n",
    "        n = len(radius)\n",
    "        Cost = []\n",
    "        index = []\n",
    "        for i in range(n):\n",
    "            if radius[i] >= diff:\n",
    "                index.append(i)\n",
    "            \n",
    "        temp = [cost[k] for k in index ]\n",
    "        if len(temp) == 0:\n",
    "            ans = 0\n",
    "        else:\n",
    "            ans = Cost.index(min(temp))\n",
    "        final.append(ans)               \n",
    "    return final "
   ]
  },
  {
   "cell_type": "code",
   "execution_count": 32,
   "metadata": {},
   "outputs": [],
   "source": [
    "for rad in radius:\n",
    "        diff = distance - rad\n",
    "        n = len(radius)\n",
    "        Cost = []\n",
    "        index = []\n",
    "        for i in range(n):\n",
    "            if radius[i] >= diff:\n",
    "                index.append(i)\n",
    "            \n",
    "        temp = [cost[k] for k in index ]"
   ]
  },
  {
   "cell_type": "code",
   "execution_count": 39,
   "metadata": {},
   "outputs": [
    {
     "data": {
      "text/plain": [
       "[4]"
      ]
     },
     "execution_count": 39,
     "metadata": {},
     "output_type": "execute_result"
    }
   ],
   "source": [
    "list(set(temp[1:]) - set(temp[:-1]))"
   ]
  },
  {
   "cell_type": "code",
   "execution_count": 42,
   "metadata": {},
   "outputs": [
    {
     "ename": "NameError",
     "evalue": "name 'AR' is not defined",
     "output_type": "error",
     "traceback": [
      "\u001b[0;31m---------------------------------------------------------------------------\u001b[0m",
      "\u001b[0;31mNameError\u001b[0m                                 Traceback (most recent call last)",
      "\u001b[0;32m<ipython-input-42-2f3692033e91>\u001b[0m in \u001b[0;36m<module>\u001b[0;34m()\u001b[0m\n\u001b[1;32m      1\u001b[0m \u001b[0;32mimport\u001b[0m \u001b[0mnumpy\u001b[0m \u001b[0;32mas\u001b[0m \u001b[0mnp\u001b[0m\u001b[0;34m\u001b[0m\u001b[0m\n\u001b[1;32m      2\u001b[0m \u001b[0;32mimport\u001b[0m \u001b[0mstatsmodels\u001b[0m\u001b[0;34m.\u001b[0m\u001b[0mtsa\u001b[0m \u001b[0;32mas\u001b[0m \u001b[0mtsa\u001b[0m\u001b[0;34m\u001b[0m\u001b[0m\n\u001b[0;32m----> 3\u001b[0;31m \u001b[0mAR\u001b[0m\u001b[0;34m(\u001b[0m\u001b[0mdata\u001b[0m\u001b[0;34m)\u001b[0m\u001b[0;34m.\u001b[0m\u001b[0mfit\u001b[0m\u001b[0;34m(\u001b[0m\u001b[0;34m[\u001b[0m\u001b[0;36m1\u001b[0m\u001b[0;34m,\u001b[0m\u001b[0;36m3\u001b[0m\u001b[0;34m,\u001b[0m\u001b[0;36m4\u001b[0m\u001b[0;34m]\u001b[0m\u001b[0;34m)\u001b[0m\u001b[0;34m\u001b[0m\u001b[0m\n\u001b[0m",
      "\u001b[0;31mNameError\u001b[0m: name 'AR' is not defined"
     ]
    }
   ],
   "source": [
    "import numpy as np\n",
    "import statsmodels.tsa as tsa\n",
    "AR(data).fit([1,3,4])"
   ]
  },
  {
   "cell_type": "code",
   "execution_count": 43,
   "metadata": {
    "collapsed": true
   },
   "outputs": [],
   "source": [
    "import statsmodels.tsa as tsa\n"
   ]
  },
  {
   "cell_type": "code",
   "execution_count": 48,
   "metadata": {},
   "outputs": [
    {
     "name": "stdout",
     "output_type": "stream",
     "text": [
      "[7]\n"
     ]
    }
   ],
   "source": [
    "temperature = [1,2,3,4,5,6,7]\n",
    "DIFF = np.array(list(set(temperature[1:]) - set(temperature[0:-1])))\n",
    "print(DIFF[np.random.choice(len(DIFF), size=1)])"
   ]
  },
  {
   "cell_type": "code",
   "execution_count": null,
   "metadata": {
    "collapsed": true
   },
   "outputs": [],
   "source": []
  },
  {
   "cell_type": "code",
   "execution_count": 17,
   "metadata": {},
   "outputs": [
    {
     "name": "stdout",
     "output_type": "stream",
     "text": [
      "[5]\n"
     ]
    }
   ],
   "source": [
    "import numpy as np\n",
    "x = np.array([1,2,3,4,5])\n",
    "print(x[x >4])"
   ]
  },
  {
   "cell_type": "code",
   "execution_count": null,
   "metadata": {
    "collapsed": true
   },
   "outputs": [],
   "source": [
    "i1 = 0\n",
    "    for x1 in radius:\n",
    "        i1 += 1\n",
    "        dif = distance - x1\n",
    "        i2 = 0\n",
    "        for x2 in radius:\n",
    "            i2 += 1\n",
    "            if i2 == i1:\n",
    "                continue\n",
    "            if x2 > dif:\n",
    "                if cost[i2] < current_cost:\n",
    "                    current_cost = cost[i2]\n",
    "                    current_index = i2\n",
    "            "
   ]
  }
 ],
 "metadata": {
  "kernelspec": {
   "display_name": "Python 3",
   "language": "python",
   "name": "python3"
  },
  "language_info": {
   "codemirror_mode": {
    "name": "ipython",
    "version": 3
   },
   "file_extension": ".py",
   "mimetype": "text/x-python",
   "name": "python",
   "nbconvert_exporter": "python",
   "pygments_lexer": "ipython3",
   "version": "3.6.4"
  }
 },
 "nbformat": 4,
 "nbformat_minor": 2
}
